{
 "cells": [
  {
   "cell_type": "code",
   "execution_count": 22,
   "metadata": {
    "collapsed": false,
    "deletable": true,
    "editable": true
   },
   "outputs": [],
   "source": [
    "from logparser import LogParser"
   ]
  },
  {
   "cell_type": "code",
   "execution_count": 23,
   "metadata": {
    "collapsed": false,
    "deletable": true,
    "editable": true
   },
   "outputs": [
    {
     "name": "stdout",
     "output_type": "stream",
     "text": [
      "[['UT+T', '97.57%', '98.68%'], ['UT+T>5GeV', '97.62%', '98.82%'], ['UT+T_strange', '97.58%', '98.64%'], ['UT+T_strange>5GeV', '97.62%', '98.79%'], ['noVelo+UT+T_strange', '97.57%', '98.56%'], ['noVelo+UT+T_strange>5GeV', '97.63%', '98.76%'], ['UT+T_fromB', '97.84%', '98.97%'], ['UT+T_fromB>5GeV', '97.88%', '99.08%'], ['noVelo+UT+T_fromB', '97.73%', '98.61%'], ['noVelo+UT+T_fromB>5GeV', '97.78%', '98.91%'], ['UT+T_SfromDB', '97.75%', '98.86%'], ['UT+T_SfromDB>5GeV', '97.82%', '98.97%'], ['noVelo+UT+T_SfromDB', '97.73%', '98.81%'], ['noVelo+UT+T_SfromDB>5GeV', '97.77%', '98.94%']]\n"
     ]
    },
    {
     "data": {
      "text/plain": [
       "[['UT+T', '97.57%', '98.68%'],\n",
       " ['UT+T>5GeV', '97.62%', '98.82%'],\n",
       " ['UT+T_strange', '97.58%', '98.64%'],\n",
       " ['UT+T_strange>5GeV', '97.62%', '98.79%'],\n",
       " ['noVelo+UT+T_strange', '97.57%', '98.56%'],\n",
       " ['noVelo+UT+T_strange>5GeV', '97.63%', '98.76%'],\n",
       " ['UT+T_fromB', '97.84%', '98.97%'],\n",
       " ['UT+T_fromB>5GeV', '97.88%', '99.08%'],\n",
       " ['noVelo+UT+T_fromB', '97.73%', '98.61%'],\n",
       " ['noVelo+UT+T_fromB>5GeV', '97.78%', '98.91%'],\n",
       " ['UT+T_SfromDB', '97.75%', '98.86%'],\n",
       " ['UT+T_SfromDB>5GeV', '97.82%', '98.97%'],\n",
       " ['noVelo+UT+T_SfromDB', '97.73%', '98.81%'],\n",
       " ['noVelo+UT+T_SfromDB>5GeV', '97.77%', '98.94%']]"
      ]
     },
     "execution_count": 23,
     "metadata": {},
     "output_type": "execute_result"
    }
   ],
   "source": [
    "parser = LogParser()\n",
    "parser.parse_log(\"baseline_BdJPsiKs_MagD.log\", \"PrChecker.Downs\")"
   ]
  },
  {
   "cell_type": "code",
   "execution_count": 21,
   "metadata": {
    "collapsed": false,
    "deletable": true,
    "editable": true
   },
   "outputs": [
    {
     "ename": "ValueError",
     "evalue": "could not convert string to float: '98.68%'",
     "output_type": "error",
     "traceback": [
      "\u001b[1;31m---------------------------------------------------------------------------\u001b[0m",
      "\u001b[1;31mValueError\u001b[0m                                Traceback (most recent call last)",
      "\u001b[1;32m<ipython-input-21-8036add7aa69>\u001b[0m in \u001b[0;36m<module>\u001b[1;34m()\u001b[0m\n\u001b[0;32m      3\u001b[0m \u001b[0mcolors\u001b[0m \u001b[1;33m=\u001b[0m \u001b[1;33m[\u001b[0m\u001b[1;34m\"#ff0000\"\u001b[0m\u001b[1;33m,\u001b[0m\u001b[1;34m\"#ff4e00\"\u001b[0m\u001b[1;33m,\u001b[0m\u001b[1;34m\"#ff9c00\"\u001b[0m\u001b[1;33m,\u001b[0m\u001b[1;34m\"#ffeb00\"\u001b[0m\u001b[1;33m,\u001b[0m\u001b[1;34m\"#c4ff00\"\u001b[0m\u001b[1;33m,\u001b[0m\u001b[1;34m\"#75ff00\"\u001b[0m\u001b[1;33m,\u001b[0m\u001b[1;34m\"#27ff00\"\u001b[0m\u001b[1;33m,\u001b[0m\u001b[1;34m\"#00ff27\"\u001b[0m\u001b[1;33m,\u001b[0m\u001b[1;34m\"#00ff75\"\u001b[0m\u001b[1;33m,\u001b[0m\u001b[1;34m\"#00ffc4\"\u001b[0m\u001b[1;33m,\u001b[0m\u001b[1;34m\"#00ebff\"\u001b[0m\u001b[1;33m,\u001b[0m\u001b[1;34m\"#009cff\"\u001b[0m\u001b[1;33m,\u001b[0m\u001b[1;34m\"#004eff\"\u001b[0m\u001b[1;33m,\u001b[0m\u001b[1;34m\"#0000ff\"\u001b[0m\u001b[1;33m]\u001b[0m\u001b[1;33m\u001b[0m\u001b[0m\n\u001b[0;32m      4\u001b[0m \u001b[1;32mfor\u001b[0m \u001b[0mi\u001b[0m \u001b[1;32min\u001b[0m \u001b[0mrange\u001b[0m\u001b[1;33m(\u001b[0m\u001b[1;36m14\u001b[0m\u001b[1;33m)\u001b[0m\u001b[1;33m:\u001b[0m\u001b[1;33m\u001b[0m\u001b[0m\n\u001b[1;32m----> 5\u001b[1;33m     \u001b[0mplot\u001b[0m\u001b[1;33m.\u001b[0m\u001b[0mscatter\u001b[0m\u001b[1;33m(\u001b[0m\u001b[0mfloat\u001b[0m\u001b[1;33m(\u001b[0m\u001b[0mdata\u001b[0m\u001b[1;33m[\u001b[0m\u001b[0mi\u001b[0m\u001b[1;33m]\u001b[0m\u001b[1;33m[\u001b[0m\u001b[1;36m2\u001b[0m\u001b[1;33m]\u001b[0m\u001b[1;33m)\u001b[0m\u001b[1;33m,\u001b[0m \u001b[0mfloat\u001b[0m\u001b[1;33m(\u001b[0m\u001b[0mdata\u001b[0m\u001b[1;33m[\u001b[0m\u001b[0mi\u001b[0m\u001b[1;33m]\u001b[0m\u001b[1;33m[\u001b[0m\u001b[1;36m1\u001b[0m\u001b[1;33m]\u001b[0m\u001b[1;33m)\u001b[0m\u001b[1;33m,\u001b[0m \u001b[0ms\u001b[0m \u001b[1;33m=\u001b[0m \u001b[1;36m25\u001b[0m\u001b[1;33m,\u001b[0m \u001b[0mc\u001b[0m \u001b[1;33m=\u001b[0m \u001b[0mcolors\u001b[0m\u001b[1;33m[\u001b[0m\u001b[0mi\u001b[0m\u001b[1;33m]\u001b[0m\u001b[1;33m,\u001b[0m \u001b[0mlabel\u001b[0m \u001b[1;33m=\u001b[0m \u001b[0mdata\u001b[0m\u001b[1;33m[\u001b[0m\u001b[0mi\u001b[0m\u001b[1;33m]\u001b[0m\u001b[1;33m[\u001b[0m\u001b[1;36m0\u001b[0m\u001b[1;33m]\u001b[0m\u001b[1;33m)\u001b[0m\u001b[1;33m\u001b[0m\u001b[0m\n\u001b[0m\u001b[0;32m      6\u001b[0m \u001b[0mplot\u001b[0m\u001b[1;33m.\u001b[0m\u001b[0mxlabel\u001b[0m\u001b[1;33m(\u001b[0m\u001b[1;34m\"Hit efficiency [%]\"\u001b[0m\u001b[1;33m)\u001b[0m\u001b[1;33m\u001b[0m\u001b[0m\n\u001b[0;32m      7\u001b[0m \u001b[0mplot\u001b[0m\u001b[1;33m.\u001b[0m\u001b[0mylabel\u001b[0m\u001b[1;33m(\u001b[0m\u001b[1;34m\"Purity [%]\"\u001b[0m\u001b[1;33m)\u001b[0m\u001b[1;33m\u001b[0m\u001b[0m\n",
      "\u001b[1;31mValueError\u001b[0m: could not convert string to float: '98.68%'"
     ]
    }
   ],
   "source": [
    "import matplotlib.pyplot as plot\n",
    "ax = plot.subplot(111)\n",
    "colors = [\"#ff0000\",\"#ff4e00\",\"#ff9c00\",\"#ffeb00\",\"#c4ff00\",\"#75ff00\",\"#27ff00\",\"#00ff27\",\"#00ff75\",\"#00ffc4\",\"#00ebff\",\"#009cff\",\"#004eff\",\"#0000ff\"]\n",
    "for i in range(14):\n",
    "    plot.scatter(float(data[i][2]), float(data[i][1]), s = 25, c = colors[i], label = data[i][0])\n",
    "plot.xlabel(\"Hit efficiency [%]\")\n",
    "plot.ylabel(\"Purity [%]\")\n",
    "plot.legend(loc = 'lower right', scatterpoints = 1, prop={'size':6})\n",
    "plot.savefig(\"asdf\" + \".pdf\")\n",
    "plot.clf()"
   ]
  },
  {
   "cell_type": "code",
   "execution_count": null,
   "metadata": {
    "collapsed": true,
    "deletable": true,
    "editable": true
   },
   "outputs": [],
   "source": []
  },
  {
   "cell_type": "code",
   "execution_count": null,
   "metadata": {
    "collapsed": true,
    "deletable": true,
    "editable": true
   },
   "outputs": [],
   "source": []
  }
 ],
 "metadata": {
  "kernelspec": {
   "display_name": "Python 3",
   "language": "python",
   "name": "python3"
  },
  "language_info": {
   "codemirror_mode": {
    "name": "ipython",
    "version": 3
   },
   "file_extension": ".py",
   "mimetype": "text/x-python",
   "name": "python",
   "nbconvert_exporter": "python",
   "pygments_lexer": "ipython3",
   "version": "3.5.3"
  }
 },
 "nbformat": 4,
 "nbformat_minor": 0
}
