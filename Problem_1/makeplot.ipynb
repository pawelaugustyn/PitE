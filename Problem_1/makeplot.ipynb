{
 "cells": [
  {
   "cell_type": "code",
   "execution_count": 2,
   "metadata": {
    "collapsed": false,
    "deletable": true,
    "editable": true
   },
   "outputs": [],
   "source": [
    "from Problem_1.logparser import LogParser"
   ]
  },
  {
   "cell_type": "code",
   "execution_count": 9,
   "metadata": {
    "collapsed": false,
    "deletable": true,
    "editable": true
   },
   "outputs": [
    {
     "name": "stdout",
     "output_type": "stream",
     "text": [
      "[['UT+T', '97.57', '98.68'], ['UT+T>5GeV', '97.62', '98.82'], ['UT+T_strange', '97.58', '98.64'], ['UT+T_strange>5GeV', '97.62', '98.79'], ['noVelo+UT+T_strange', '97.57', '98.56'], ['noVelo+UT+T_strange>5GeV', '97.63', '98.76'], ['UT+T_fromB', '97.84', '98.97'], ['UT+T_fromB>5GeV', '97.88', '99.08'], ['noVelo+UT+T_fromB', '97.73', '98.61'], ['noVelo+UT+T_fromB>5GeV', '97.78', '98.91'], ['UT+T_SfromDB', '97.75', '98.86'], ['UT+T_SfromDB>5GeV', '97.82', '98.97'], ['noVelo+UT+T_SfromDB', '97.73', '98.81'], ['noVelo+UT+T_SfromDB>5GeV', '97.77', '98.94']]\n"
     ]
    }
   ],
   "source": [
    "parser = LogParser()\n",
    "data = parser.parse_log(\"./Logs/baseline_BdJPsiKs_MagD.log\", \"PrChecker.Downs\")"
   ]
  },
  {
   "cell_type": "code",
   "execution_count": 13,
   "metadata": {
    "collapsed": false,
    "deletable": true,
    "editable": true
   },
   "outputs": [
    {
     "data": {
      "image/png": "[encoded data removed]",
      "text/plain": [
       "<matplotlib.figure.Figure at 0x1b81de0f240>"
      ]
     },
     "metadata": {},
     "output_type": "display_data"
    }
   ],
   "source": [
    "%matplotlib inline\n",
    "import matplotlib.pyplot as plot\n",
    "ax = plot.subplot(111)\n",
    "colors = [\"#ff0000\",\"#ff4e00\",\"#ff9c00\",\"#ffeb00\",\"#c4ff00\",\"#75ff00\",\"#27ff00\",\"#00ff27\",\"#00ff75\",\"#00ffc4\",\"#00ebff\",\"#009cff\",\"#004eff\",\"#0000ff\"]\n",
    "for i in range(14):\n",
    "    plot.scatter(float(data[i][2]), float(data[i][1]), s = 25, c = colors[i], label = data[i][0])\n",
    "plot.xlabel(\"Hit efficiency [%]\")\n",
    "plot.ylabel(\"Purity [%]\")\n",
    "plot.legend(loc = 'lower right', scatterpoints = 1, prop={'size':6})\n",
    "plot.show()"
   ]
  },
  {
   "cell_type": "code",
   "execution_count": null,
   "metadata": {
    "collapsed": true,
    "deletable": true,
    "editable": true
   },
   "outputs": [],
   "source": [
    ""
   ]
  },
  {
   "cell_type": "code",
   "execution_count": null,
   "metadata": {
    "collapsed": true
   },
   "outputs": [],
   "source": [
    ""
   ]
  }
 ],
 "metadata": {
  "kernelspec": {
   "display_name": "Python 3",
   "language": "python",
   "name": "python3"
  },
  "language_info": {
   "codemirror_mode": {
    "name": "ipython",
    "version": 3.0
   },
   "file_extension": ".py",
   "mimetype": "text/x-python",
   "name": "python",
   "nbconvert_exporter": "python",
   "pygments_lexer": "ipython3",
   "version": "3.5.3"
  }
 },
 "nbformat": 4,
 "nbformat_minor": 0
}